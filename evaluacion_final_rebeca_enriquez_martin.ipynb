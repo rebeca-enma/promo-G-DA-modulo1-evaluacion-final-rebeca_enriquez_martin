{
 "cells": [
  {
   "cell_type": "code",
   "execution_count": 143,
   "metadata": {},
   "outputs": [],
   "source": [
    "class Tienda_Online:\n",
    "    def __init__(self):\n",
    "        self.inventario= []\n",
    "        self.clientes = {}\n",
    "        self.ventas_totales = 0.0\n",
    "\n",
    "        #Creacion del metodo constructor para llamarle en los metodos cuando lo necesitemos.\n",
    "\n",
    "    def agregar_producto(self,nombre,precio,cantidad):\n",
    "\n",
    "        #En este metodo agrega/modifica segun los argumentos que le pasemos como parametro.\n",
    "        #Hemos creado una variable auxiliar \"encontrado\" para optimizar el codigo ya que los diccionarios tienen claves unicas (una vez encontrado no siga recorriendo diccionario)\n",
    "        #Si recorre el codigo y no lo ha encontrado entonces que agrege un nuevo producto\n",
    "\n",
    "        encontrado = False   \n",
    "        for producto in self.inventario:\n",
    "            if producto[\"nombre\"] == nombre:\n",
    "                producto[\"cantidad\"]= cantidad\n",
    "                encontrado = True\n",
    "                break\n",
    "        \n",
    "        if encontrado == False:\n",
    "            self.inventario.append({\"nombre\":nombre,\"precio\":precio,\"cantidad\":cantidad})\n",
    "\n",
    "    def ver_inventario(self):\n",
    "        #Recorre todo el diccionario y hace un print por elemento\n",
    "    \n",
    "        for producto in self.inventario:\n",
    "            print(f'Nombre: {producto[\"nombre\"]}, Precio: ${producto[\"precio\"]}, Cantidad: {producto[\"cantidad\"]}')\n",
    "\n",
    "\n",
    "    def buscar_producto(self,nombre):\n",
    "\n",
    "        #Buscar un elemento por nombre (Argumento recibido) si lo encuentra lo muestra por pantalla \"format\", como accedemos a un diccionario lo hacemos por la clave y como son valores unicos ponemos un break para optimizar (una vez encontrado no siga recorriendo)\n",
    "\n",
    "        for producto in self.inventario:\n",
    "            if producto[\"nombre\"] == nombre:\n",
    "                print(f'Nombre: {producto[\"nombre\"]}, Precio: ${producto[\"precio\"]}, Cantidad: {producto[\"cantidad\"]}')\n",
    "                break\n",
    "\n",
    "    def actualizar_stock(self, nombre, cantidad): \n",
    "\n",
    "        #Recorremos el diccionario de productos e iteramos por la clave, y modificamos su valor por asignacion directa, optimizamos codigo con un break, entiendo que si queremos eliminar cantidad el valor sera un INT en negativo ej: -5 , por eso utilizo +=\n",
    "\n",
    "        encontrado = False\n",
    "        for producto in self.inventario:\n",
    "            if producto[\"nombre\"] == nombre:\n",
    "                producto[\"cantidad\"] += cantidad\n",
    "                encontrado = True\n",
    "                break\n",
    "\n",
    "        if encontrado == False:\n",
    "            print(f\"El producto {nombre} no se encuentra en inventario, por lo tanto no se puede actualizar\")\n",
    "\n",
    "    def eliminar_producto(self, nombre):\n",
    "\n",
    "        #Utilizo la funcion remove  ya que estamos operando una lista de diccionarios.\n",
    "        #iteramos a traves de la lista, entrando a los diccionarios (key) viendo si el valor coincide con el argumento, si una Key es igual que el argumento, le decimos a la lista que elimine \"el bloque entero\"\n",
    "\n",
    "        encontrado = False\n",
    "        for producto in self.inventario:\n",
    "            if producto[\"nombre\"] == nombre:\n",
    "                self.inventario.remove(producto)\n",
    "                encontrado = True\n",
    "                break\n",
    "            \n",
    "        if encontrado == False:\n",
    "            print(f\"El producto {nombre} que desea borrar no se encuentra en inventario\")\n",
    "\n",
    "    def calcular_valor_inventario(self):\n",
    "\n",
    "        #creo una variable auxiliar donde se realice la suma y que sera el elemeto a devolver\n",
    "        #Recorremos la lista de diccionarios y por cada elemento modificamos la variable auxiliar\n",
    "\n",
    "        suma_inventario= 0\n",
    "        for producto in self.inventario:\n",
    "            suma = producto[\"precio\"] * producto[\"cantidad\"]\n",
    "            suma_inventario += suma\n",
    "        \n",
    "        return f\"El valor total del inventario es {suma_inventario} €\"\n",
    "    \n",
    "    def realizar_compra(self):\n",
    "\n",
    "        #Creamos varias variables auxiliares\n",
    "        \n",
    "        compra_continuar = True #Auxiliar para que While funcione/al final del metodo preguntamos al cliente y lo igualamos a una variable para que no sea un STR (input), sino un boleano y funcione en el While\n",
    "        carrito = [] #Lista vacia, que se ira completando con las opciones de compra y luego anexaremos a cliente\n",
    "        coste_compra = 0\n",
    "\n",
    "        self.ver_inventario()  #llamo al inventario para \"dar opciones de compra\"\n",
    "\n",
    "        while compra_continuar:\n",
    "\n",
    "            #Solicitamos al cliente varios input (productos/cantidad)\n",
    "            #En este apartado deberia establecer \"programaion defensiva\" (comprobar mayusculas...)/si hay suficiente stock..\n",
    "            \n",
    "            articulo = input(\"Que deseas comprar?\")\n",
    "            cantidad= int(input(\"cuantas unidades\"))\n",
    "\n",
    "            for producto in self.inventario:\n",
    "                if producto[\"nombre\"] == articulo:\n",
    "                    compra = producto[\"precio\"] * cantidad\n",
    "                    coste_compra += compra\n",
    "                    self.ventas_totales += compra\n",
    "                    carrito.append({\"nombre\":articulo,\"precio\":producto[\"precio\"],\"cantidad\":cantidad})\n",
    "\n",
    "            #Multiplicamos para convertir el numero en negativo y actualizar el stock de tienda        \n",
    "\n",
    "            actualizacion= cantidad*(-1)        \n",
    "            #llamamos a los propios metodos de la clase para realizar los cambios\n",
    "            self.actualizar_stock(articulo,actualizacion)\n",
    "            print(\"__________________________\")\n",
    "            self.ver_inventario()\n",
    "\n",
    "            seguir_comprando = input(\"Quieres seguir comprando? True/False\")\n",
    "\n",
    "            if seguir_comprando != \"True\":\n",
    "                compra_continuar = False\n",
    "        \n",
    "\n",
    "    def procesar_pago(self):\n",
    "\n",
    "        #aqui podiamos vincular con el metodo realizar compra y en vez de preguntar al cliente por el coste podriamos vincularlo directamente al carrito\n",
    "\n",
    "        try:\n",
    "            cantidad_total = float(input(\"Introduce el coste total de la compra\"))\n",
    "            pago= float(input(\"Cantidad facilitada al vendedor\"))\n",
    "\n",
    "        except:\n",
    "            print(\"Ha ocurrido un error, el valor aportado no un numero\")\n",
    "\n",
    "        else:\n",
    "            cambio= pago - cantidad_total\n",
    "\n",
    "            if cambio >= 0:\n",
    "                print(f\"El importe devuelto por el vendor es {round(cambio,2)}€\")\n",
    "            else:\n",
    "                print(\"El dinero aportado es insuficiente para el monto de la compra\")\n",
    "\n",
    "    def agregar_cliente(self, nombre, email):\n",
    "        #Clientes es un diccionario por lo que  buscamos el argumento entre sus claves y si no esta lo incluimos por asignacion directa.\n",
    "\n",
    "        if nombre not in self.clientes.keys():\n",
    "            self.clientes[nombre]= {\"email\":email, \"compra\":[]}\n",
    "            \n",
    "        else:\n",
    "            return f\"El cliente {nombre} con email {email} ya esta registrado en nuestra base de datos\"\n",
    "\n",
    "\n",
    "    def ver_clientes(self):\n",
    "\n",
    "        #lo realizamos con un bucle for, para que al mostrarlo por pantalla mejoremos el print, tambien lo podriamos hacer llamando a los propios atributos de la clase ej: \"mi_tienda.self.clientes()\"\n",
    "\n",
    "        for nombre_cliente,datos_cliente in self.clientes.items():\n",
    "            print(f'Cliente: {nombre_cliente} con email {datos_cliente[\"email\"]}')\n",
    "    \n",
    "    def registrar_compra(self, nombre_cliente, carrito):\n",
    "\n",
    "        if nombre_cliente in self.clientes.keys():\n",
    "            for producto in carrito.values():\n",
    "                total= producto[\"precio\"] * producto[\"cantidad\"]\n",
    "                producto[\"total_producto\"] = total\n",
    "                self.ventas_totales += total\n",
    "            self.clientes[nombre_cliente][\"compra\"].append(carrito)\n",
    "\n",
    "        else:\n",
    "            print(\"Usuario no registado, no puede realizar la compra\")\n",
    "\n",
    "    def ver_compras_cliente(self, nombre_cliente):\n",
    "\n",
    "        if nombre_cliente in self.clientes.keys():\n",
    "            print(f'El cliente {nombre_cliente} ha realizado las siguientes compras {self.clientes[nombre_cliente][\"compra\"]}')\n",
    "\n",
    "\n",
    "    def calcular_ventas_totales(self):\n",
    "     #lo realizamos con un bucle for, para que al mostrarlo por pantalla mejoremos el print, tambien lo podriamos hacer llamando a los propios atributos de la clase ej: \"mi_tienda.self.ventas_totales()\"\n",
    "\n",
    "        ventas_totales = 0\n",
    "\n",
    "        for cliente in self.clientes:\n",
    "            for carrito in self.clientes[cliente][\"compra\"]:\n",
    "                for producto in carrito.values():\n",
    "                    ventas_totales += producto[\"total_producto\"]\n",
    "        \n",
    "        print(f\"Las ventas totales de la tienda son: {ventas_totales} €\")\n",
    "\n",
    "\n",
    "        "
   ]
  },
  {
   "cell_type": "code",
   "execution_count": 144,
   "metadata": {},
   "outputs": [
    {
     "name": "stdout",
     "output_type": "stream",
     "text": [
      "[{'nombre': 'Camiseta', 'precio': 20.5, 'cantidad': 8}, {'nombre': 'Sudadera', 'precio': 50, 'cantidad': 6}, {'nombre': 'Abrigo', 'precio': 60, 'cantidad': 4}, {'nombre': 'Gafas', 'precio': 55, 'cantidad': 10}, {'nombre': 'Snorkel', 'precio': 12.5, 'cantidad': 9}]\n"
     ]
    }
   ],
   "source": [
    "\n",
    "# Creaccion de la clase \n",
    "mi_tienda = Tienda_Online()\n",
    "\n",
    "# Comprobar que se agegan correctamente los productos al inventario (ejericicio 1)\n",
    "mi_tienda.agregar_producto(\"Camiseta\",20.5,3)\n",
    "mi_tienda.agregar_producto(\"Sudadera\",50,6)\n",
    "mi_tienda.agregar_producto(\"Abrigo\",60,4)\n",
    "mi_tienda.agregar_producto(\"Gafas\",55,10)\n",
    "mi_tienda.agregar_producto(\"Snorkel\",12.50,9)\n",
    "mi_tienda.agregar_producto(\"Camiseta\",20.5,8)\n",
    "\n",
    "\n",
    "print(mi_tienda.inventario)"
   ]
  },
  {
   "cell_type": "code",
   "execution_count": 145,
   "metadata": {},
   "outputs": [
    {
     "name": "stdout",
     "output_type": "stream",
     "text": [
      "Nombre: Camiseta, Precio: $20.5, Cantidad: 8\n",
      "Nombre: Sudadera, Precio: $50, Cantidad: 6\n",
      "Nombre: Abrigo, Precio: $60, Cantidad: 4\n",
      "Nombre: Gafas, Precio: $55, Cantidad: 10\n",
      "Nombre: Snorkel, Precio: $12.5, Cantidad: 9\n"
     ]
    }
   ],
   "source": [
    "# Revisar inventario (ejercicio 2)\n",
    "mi_tienda.ver_inventario()"
   ]
  },
  {
   "cell_type": "code",
   "execution_count": 146,
   "metadata": {},
   "outputs": [
    {
     "name": "stdout",
     "output_type": "stream",
     "text": [
      "Nombre: Camiseta, Precio: $20.5, Cantidad: 8\n"
     ]
    }
   ],
   "source": [
    "#Bucar productos (ejericicio 3)\n",
    "mi_tienda.buscar_producto(\"Camiseta\")"
   ]
  },
  {
   "cell_type": "code",
   "execution_count": 147,
   "metadata": {},
   "outputs": [
    {
     "name": "stdout",
     "output_type": "stream",
     "text": [
      "El producto Gorro no se encuentra en inventario, por lo tanto no se puede actualizar\n",
      "[{'nombre': 'Camiseta', 'precio': 20.5, 'cantidad': 8}, {'nombre': 'Sudadera', 'precio': 50, 'cantidad': 1}, {'nombre': 'Abrigo', 'precio': 60, 'cantidad': 4}, {'nombre': 'Gafas', 'precio': 55, 'cantidad': 10}, {'nombre': 'Snorkel', 'precio': 12.5, 'cantidad': 9}]\n"
     ]
    }
   ],
   "source": [
    "#Actualizar stock (ejercicio 4)\n",
    "mi_tienda.actualizar_stock(\"Sudadera\",-5)\n",
    "\n",
    "mi_tienda.actualizar_stock(\"Gorro\",6)\n",
    "\n",
    "print(mi_tienda.inventario)"
   ]
  },
  {
   "cell_type": "code",
   "execution_count": 148,
   "metadata": {},
   "outputs": [
    {
     "name": "stdout",
     "output_type": "stream",
     "text": [
      "El producto Gorro que desea borrar no se encuentra en inventario\n",
      "[{'nombre': 'Camiseta', 'precio': 20.5, 'cantidad': 8}, {'nombre': 'Abrigo', 'precio': 60, 'cantidad': 4}, {'nombre': 'Gafas', 'precio': 55, 'cantidad': 10}, {'nombre': 'Snorkel', 'precio': 12.5, 'cantidad': 9}]\n"
     ]
    }
   ],
   "source": [
    "#Eliminar un producto de  stock (ejercicio 5)\n",
    "\n",
    "mi_tienda.eliminar_producto(\"Sudadera\")\n",
    "mi_tienda.eliminar_producto(\"Gorro\")\n",
    "\n",
    "print(mi_tienda.inventario)"
   ]
  },
  {
   "cell_type": "code",
   "execution_count": 150,
   "metadata": {},
   "outputs": [
    {
     "data": {
      "text/plain": [
       "'El valor total del inventario es 1066.5 €'"
      ]
     },
     "execution_count": 150,
     "metadata": {},
     "output_type": "execute_result"
    }
   ],
   "source": [
    "#Calcula el valor del inventario (ejericio 6)\n",
    "\n",
    "mi_tienda.calcular_valor_inventario()"
   ]
  },
  {
   "cell_type": "code",
   "execution_count": 151,
   "metadata": {},
   "outputs": [
    {
     "name": "stdout",
     "output_type": "stream",
     "text": [
      "Nombre: Camiseta, Precio: $20.5, Cantidad: 8\n",
      "Nombre: Abrigo, Precio: $60, Cantidad: 4\n",
      "Nombre: Gafas, Precio: $55, Cantidad: 10\n",
      "Nombre: Snorkel, Precio: $12.5, Cantidad: 9\n",
      "__________________________\n",
      "Nombre: Camiseta, Precio: $20.5, Cantidad: 6\n",
      "Nombre: Abrigo, Precio: $60, Cantidad: 4\n",
      "Nombre: Gafas, Precio: $55, Cantidad: 10\n",
      "Nombre: Snorkel, Precio: $12.5, Cantidad: 9\n",
      "__________________________\n",
      "Nombre: Camiseta, Precio: $20.5, Cantidad: 6\n",
      "Nombre: Abrigo, Precio: $60, Cantidad: 4\n",
      "Nombre: Gafas, Precio: $55, Cantidad: 10\n",
      "Nombre: Snorkel, Precio: $12.5, Cantidad: 6\n",
      "__________________________\n",
      "Nombre: Camiseta, Precio: $20.5, Cantidad: 6\n",
      "Nombre: Abrigo, Precio: $60, Cantidad: 4\n",
      "Nombre: Gafas, Precio: $55, Cantidad: 8\n",
      "Nombre: Snorkel, Precio: $12.5, Cantidad: 6\n"
     ]
    }
   ],
   "source": [
    "mi_tienda.realizar_compra()"
   ]
  },
  {
   "cell_type": "code",
   "execution_count": 152,
   "metadata": {},
   "outputs": [
    {
     "name": "stdout",
     "output_type": "stream",
     "text": [
      "El importe devuelto por el vendor es 3.74€\n"
     ]
    }
   ],
   "source": [
    "#Apartado 8 prueba del metodo procesar pago\n",
    "\n",
    "mi_tienda.procesar_pago()"
   ]
  },
  {
   "cell_type": "code",
   "execution_count": 154,
   "metadata": {},
   "outputs": [
    {
     "data": {
      "text/plain": [
       "'El cliente Rebeca con email rebeca.enma@gmail.com ya esta registrado en nuestra base de datos'"
      ]
     },
     "execution_count": 154,
     "metadata": {},
     "output_type": "execute_result"
    }
   ],
   "source": [
    "# Apartado 9 \n",
    "mi_tienda.agregar_cliente(\"Pedro\",\"prueba@gmail.com\")\n",
    "mi_tienda.agregar_cliente(\"Rebeca\",\"rebeca.enma@gmail.com\")\n",
    "mi_tienda.agregar_cliente(\"Rebeca\",\"rebeca.enma@gmail.com\")\n"
   ]
  },
  {
   "cell_type": "code",
   "execution_count": 155,
   "metadata": {},
   "outputs": [
    {
     "name": "stdout",
     "output_type": "stream",
     "text": [
      "Cliente: Pedro con email prueba@gmail.com\n",
      "Cliente: Rebeca con email rebeca.enma@gmail.com\n"
     ]
    }
   ],
   "source": [
    "#apartado 10\n",
    "mi_tienda.ver_clientes()"
   ]
  },
  {
   "cell_type": "code",
   "execution_count": 156,
   "metadata": {},
   "outputs": [
    {
     "name": "stdout",
     "output_type": "stream",
     "text": [
      "Usuario no registado, no puede realizar la compra\n"
     ]
    }
   ],
   "source": [
    "mi_tienda.registrar_compra(\"Patricia\",{\"Camisa\": {\"precio\": 20, \"cantidad\": 3}})"
   ]
  },
  {
   "cell_type": "code",
   "execution_count": 157,
   "metadata": {},
   "outputs": [],
   "source": [
    "mi_tienda.registrar_compra(\"Rebeca\",{\"Camisa\": {\"precio\": 20, \"cantidad\": 3},\"Gafas\": {\"precio\": 60, \"cantidad\": 2}})\n",
    "\n"
   ]
  },
  {
   "cell_type": "code",
   "execution_count": 158,
   "metadata": {},
   "outputs": [
    {
     "name": "stdout",
     "output_type": "stream",
     "text": [
      "{'Pedro': {'email': 'prueba@gmail.com', 'compra': []}, 'Rebeca': {'email': 'rebeca.enma@gmail.com', 'compra': [{'Camisa': {'precio': 20, 'cantidad': 3, 'total_producto': 60}, 'Gafas': {'precio': 60, 'cantidad': 2, 'total_producto': 120}}]}}\n"
     ]
    }
   ],
   "source": [
    "print(mi_tienda.clientes)"
   ]
  },
  {
   "cell_type": "code",
   "execution_count": 160,
   "metadata": {},
   "outputs": [
    {
     "name": "stdout",
     "output_type": "stream",
     "text": [
      "El cliente Rebeca ha realizado las siguientes compras [{'Camisa': {'precio': 20, 'cantidad': 3, 'total_producto': 60}, 'Gafas': {'precio': 60, 'cantidad': 2, 'total_producto': 120}}]\n"
     ]
    }
   ],
   "source": [
    "mi_tienda.ver_compras_cliente(\"Rebeca\")"
   ]
  },
  {
   "cell_type": "code",
   "execution_count": 161,
   "metadata": {},
   "outputs": [
    {
     "name": "stdout",
     "output_type": "stream",
     "text": [
      "Las ventas totales de la tienda son: 180 €\n"
     ]
    }
   ],
   "source": [
    "mi_tienda.calcular_ventas_totales()"
   ]
  }
 ],
 "metadata": {
  "kernelspec": {
   "display_name": "base",
   "language": "python",
   "name": "python3"
  },
  "language_info": {
   "codemirror_mode": {
    "name": "ipython",
    "version": 3
   },
   "file_extension": ".py",
   "mimetype": "text/x-python",
   "name": "python",
   "nbconvert_exporter": "python",
   "pygments_lexer": "ipython3",
   "version": "3.9.7"
  }
 },
 "nbformat": 4,
 "nbformat_minor": 2
}
