{
 "cells": [
  {
   "cell_type": "code",
   "execution_count": 46,
   "metadata": {},
   "outputs": [],
   "source": [
    "class Tienda_Online:\n",
    "    def __init__(self):\n",
    "        self.inventario= []\n",
    "        self.clientes = {}\n",
    "        self.ventas_totales = 0.0\n",
    "\n",
    "    def agregar_producto(self,nombre,precio,cantidad):\n",
    "\n",
    "        encontrado = False   \n",
    "        for producto in self.inventario:\n",
    "            if producto[\"nombre\"] == nombre:\n",
    "                producto[\"cantidad\"]= cantidad\n",
    "                encontrado = True\n",
    "                break\n",
    "        \n",
    "        if encontrado == False:\n",
    "            self.inventario.append({\"nombre\":nombre,\"precio\":precio,\"cantidad\":cantidad})\n",
    "\n",
    "\n",
    "    def ver_inventario(self):\n",
    "        for producto in self.inventario:\n",
    "            print(f'Nombre: {producto[\"nombre\"]}, Precio: ${producto[\"precio\"]}, Cantidad: {producto[\"cantidad\"]}')\n",
    "\n",
    "\n",
    "    def buscar_producto(self,nombre):\n",
    "\n",
    "        for producto in self.inventario:\n",
    "            if producto[\"nombre\"] == nombre:\n",
    "                print(f'Nombre: {producto[\"nombre\"]}, Precio: ${producto[\"precio\"]}, Cantidad: {producto[\"cantidad\"]}')\n",
    "                break\n",
    "\n",
    "    def actualizar_stock(self, nombre, cantidad): \n",
    "\n",
    "        encontrado = False\n",
    "        for producto in self.inventario:\n",
    "            if producto[\"nombre\"] == nombre:\n",
    "                producto[\"cantidad\"] += cantidad\n",
    "                encontrado = True\n",
    "                break\n",
    "\n",
    "        if encontrado == False:\n",
    "            print(f\"El producto {nombre} no se encuentra en inventario, por lo tanto no se puede actualizar\")\n",
    "\n",
    "    def eliminar_producto(self, nombre):\n",
    "\n",
    "        encontrado = False\n",
    "        for producto in self.inventario:\n",
    "            if producto[\"nombre\"] == nombre:\n",
    "                self.inventario.remove(producto)\n",
    "                encontrado = True\n",
    "                break\n",
    "            \n",
    "        if encontrado == False:\n",
    "            print(f\"El producto {nombre} que desea borrar no se encuentra en inventario\")\n",
    "\n",
    "    def calcular_valor_inventario(self):\n",
    "\n",
    "        suma_inventario= 0\n",
    "        for producto in self.inventario:\n",
    "            suma = producto[\"precio\"] * producto[\"cantidad\"]\n",
    "            suma_inventario += suma\n",
    "        \n",
    "        return f\"El valor total del inventario es {suma_inventario} €\"\n",
    "    \n",
    "    def realizar_compra(self):\n",
    "        \n",
    "        compra_continuar = True\n",
    "        carrito = []\n",
    "        coste_compra = 0\n",
    "\n",
    "        self.ver_inventario()\n",
    "\n",
    "        while compra_continuar:\n",
    "\n",
    "            #llamo al inventario para \"dar opciones de compra\"\n",
    "            \n",
    "            articulo = input(\"Que deseas comprar?\")\n",
    "            cantidad= int(input(\"cuantas unidades\"))\n",
    "\n",
    "            for producto in self.inventario:\n",
    "                if producto[\"nombre\"] == articulo:\n",
    "                    compra = producto[\"precio\"] * cantidad\n",
    "                    coste_compra += compra\n",
    "                    self.ventas_totales += compra\n",
    "                    carrito.append({\"nombre\":articulo,\"precio\":producto[\"precio\"],\"cantidad\":cantidad})\n",
    "\n",
    "            actualizacion= cantidad*(-1)        \n",
    "\n",
    "            self.actualizar_stock(articulo,actualizacion)\n",
    "            print(\"__________________________\")\n",
    "            self.ver_inventario()\n",
    "\n",
    "            seguir_comprando = input(\"Quieres seguir comprando? True/False\")\n",
    "\n",
    "            if seguir_comprando != \"True\":\n",
    "                compra_continuar = False\n",
    "        \n",
    "\n",
    "    def procesar_pago(self):\n",
    "\n",
    "        try:\n",
    "            cantidad_total = float(input(\"Introduce el coste total de la compra\"))\n",
    "            pago= float(input(\"Cantidad facilitada al vendedor\"))\n",
    "\n",
    "        except:\n",
    "            print(\"Ha ocurrido un error, el valor aportado no un numero\")\n",
    "\n",
    "        else:\n",
    "            cambio= pago - cantidad_total\n",
    "\n",
    "            if cambio >= 0:\n",
    "                print(f\"El importe devuelto por el vendor es {cambio}€\")\n",
    "            else:\n",
    "                print(\"El dinero aportado es insuficiente para el monto de la compra\")\n",
    "\n",
    "    def agregar_cliente(self, nombre, email):\n",
    "\n",
    "        if nombre not in self.clientes.keys():\n",
    "            self.clientes[nombre]= {\"email\":email, \"compra\":[]}\n",
    "            \n",
    "        else:\n",
    "            return f\"El cliente {nombre} con email {email} ya esta registrado en nuestra base de datos\"\n",
    "\n",
    "\n",
    "    def ver_clientes(self):\n",
    "        for nombre_cliente,datos_cliente in self.clientes.items():\n",
    "            print(f'Cliente: {nombre_cliente} con email {datos_cliente[\"email\"]}')\n",
    "    \n",
    "    def registrar_compra(self, nombre_cliente, carrito):\n",
    "\n",
    "        if nombre_cliente in self.clientes.keys():\n",
    "            for producto in carrito.values():\n",
    "                total= producto[\"precio\"] * producto[\"cantidad\"]\n",
    "                self.clientes[nombre_cliente][\"compra\"].append(carrito)\n",
    "                self.ventas_totales += total\n",
    "\n",
    "        else:\n",
    "            print(\"Usuario no registado, no puede realizar la compra\")\n",
    "\n",
    "\n",
    "\n",
    "\n",
    "        "
   ]
  },
  {
   "cell_type": "code",
   "execution_count": 47,
   "metadata": {},
   "outputs": [
    {
     "name": "stdout",
     "output_type": "stream",
     "text": [
      "[{'nombre': 'Camiseta', 'precio': 20.5, 'cantidad': 8}, {'nombre': 'Sudadera', 'precio': 50, 'cantidad': 6}, {'nombre': 'Abrigo', 'precio': 60, 'cantidad': 4}, {'nombre': 'Gafas', 'precio': 55, 'cantidad': 10}, {'nombre': 'Snorkel', 'precio': 12.5, 'cantidad': 9}]\n"
     ]
    }
   ],
   "source": [
    "\n",
    "# Creaccion de la clase \n",
    "mi_tienda = Tienda_Online()\n",
    "\n",
    "# Comprobar que se agegan correctamente los productos al inventario (ejericicio 1)\n",
    "mi_tienda.agregar_producto(\"Camiseta\",20.5,3)\n",
    "mi_tienda.agregar_producto(\"Sudadera\",50,6)\n",
    "mi_tienda.agregar_producto(\"Abrigo\",60,4)\n",
    "mi_tienda.agregar_producto(\"Gafas\",55,10)\n",
    "mi_tienda.agregar_producto(\"Snorkel\",12.50,9)\n",
    "mi_tienda.agregar_producto(\"Camiseta\",20.5,8)\n",
    "\n",
    "\n",
    "print(mi_tienda.inventario)"
   ]
  },
  {
   "cell_type": "code",
   "execution_count": 48,
   "metadata": {},
   "outputs": [
    {
     "name": "stdout",
     "output_type": "stream",
     "text": [
      "Nombre: Camiseta, Precio: $20.5, Cantidad: 8\n",
      "Nombre: Sudadera, Precio: $50, Cantidad: 6\n",
      "Nombre: Abrigo, Precio: $60, Cantidad: 4\n",
      "Nombre: Gafas, Precio: $55, Cantidad: 10\n",
      "Nombre: Snorkel, Precio: $12.5, Cantidad: 9\n"
     ]
    }
   ],
   "source": [
    "# Revisar inventario (ejercicio 2)\n",
    "mi_tienda.ver_inventario()"
   ]
  },
  {
   "cell_type": "code",
   "execution_count": 49,
   "metadata": {},
   "outputs": [
    {
     "name": "stdout",
     "output_type": "stream",
     "text": [
      "Nombre: Camiseta, Precio: $20.5, Cantidad: 8\n"
     ]
    }
   ],
   "source": [
    "#Bucar productos (ejericicio 3)\n",
    "mi_tienda.buscar_producto(\"Camiseta\")"
   ]
  },
  {
   "cell_type": "code",
   "execution_count": 50,
   "metadata": {},
   "outputs": [
    {
     "name": "stdout",
     "output_type": "stream",
     "text": [
      "El producto Gorro no se encuentra en inventario, por lo tanto no se puede actualizar\n",
      "[{'nombre': 'Camiseta', 'precio': 20.5, 'cantidad': 8}, {'nombre': 'Sudadera', 'precio': 50, 'cantidad': 1}, {'nombre': 'Abrigo', 'precio': 60, 'cantidad': 4}, {'nombre': 'Gafas', 'precio': 55, 'cantidad': 10}, {'nombre': 'Snorkel', 'precio': 12.5, 'cantidad': 9}]\n"
     ]
    }
   ],
   "source": [
    "#Actualizar stock (ejercicio 4)\n",
    "mi_tienda.actualizar_stock(\"Sudadera\",-5)\n",
    "\n",
    "mi_tienda.actualizar_stock(\"Gorro\",6)\n",
    "\n",
    "print(mi_tienda.inventario)"
   ]
  },
  {
   "cell_type": "code",
   "execution_count": 51,
   "metadata": {},
   "outputs": [
    {
     "name": "stdout",
     "output_type": "stream",
     "text": [
      "El producto Gorro que desea borrar no se encuentra en inventario\n",
      "[{'nombre': 'Camiseta', 'precio': 20.5, 'cantidad': 8}, {'nombre': 'Abrigo', 'precio': 60, 'cantidad': 4}, {'nombre': 'Gafas', 'precio': 55, 'cantidad': 10}, {'nombre': 'Snorkel', 'precio': 12.5, 'cantidad': 9}]\n"
     ]
    }
   ],
   "source": [
    "#Eliminar un producto de  stock (ejercicio 5)\n",
    "\n",
    "mi_tienda.eliminar_producto(\"Sudadera\")\n",
    "mi_tienda.eliminar_producto(\"Gorro\")\n",
    "\n",
    "print(mi_tienda.inventario)"
   ]
  },
  {
   "cell_type": "code",
   "execution_count": 52,
   "metadata": {},
   "outputs": [
    {
     "data": {
      "text/plain": [
       "'El valor total del inventario es 1066.5 €'"
      ]
     },
     "execution_count": 52,
     "metadata": {},
     "output_type": "execute_result"
    }
   ],
   "source": [
    "#Calcula el valor del inventario (ejericio 6)\n",
    "\n",
    "mi_tienda.calcular_valor_inventario()"
   ]
  },
  {
   "cell_type": "code",
   "execution_count": 53,
   "metadata": {},
   "outputs": [
    {
     "name": "stdout",
     "output_type": "stream",
     "text": [
      "Nombre: Camiseta, Precio: $20.5, Cantidad: 8\n",
      "Nombre: Abrigo, Precio: $60, Cantidad: 4\n",
      "Nombre: Gafas, Precio: $55, Cantidad: 10\n",
      "Nombre: Snorkel, Precio: $12.5, Cantidad: 9\n"
     ]
    },
    {
     "ename": "ValueError",
     "evalue": "invalid literal for int() with base 10: ''",
     "output_type": "error",
     "traceback": [
      "\u001b[0;31m---------------------------------------------------------------------------\u001b[0m",
      "\u001b[0;31mValueError\u001b[0m                                Traceback (most recent call last)",
      "\u001b[0;32m/tmp/ipykernel_710/415605613.py\u001b[0m in \u001b[0;36m<module>\u001b[0;34m\u001b[0m\n\u001b[0;32m----> 1\u001b[0;31m \u001b[0mmi_tienda\u001b[0m\u001b[0;34m.\u001b[0m\u001b[0mrealizar_compra\u001b[0m\u001b[0;34m(\u001b[0m\u001b[0;34m)\u001b[0m\u001b[0;34m\u001b[0m\u001b[0;34m\u001b[0m\u001b[0m\n\u001b[0m",
      "\u001b[0;32m/tmp/ipykernel_710/2563078908.py\u001b[0m in \u001b[0;36mrealizar_compra\u001b[0;34m(self)\u001b[0m\n\u001b[1;32m     76\u001b[0m \u001b[0;34m\u001b[0m\u001b[0m\n\u001b[1;32m     77\u001b[0m             \u001b[0marticulo\u001b[0m \u001b[0;34m=\u001b[0m \u001b[0minput\u001b[0m\u001b[0;34m(\u001b[0m\u001b[0;34m\"Que deseas comprar?\"\u001b[0m\u001b[0;34m)\u001b[0m\u001b[0;34m\u001b[0m\u001b[0;34m\u001b[0m\u001b[0m\n\u001b[0;32m---> 78\u001b[0;31m             \u001b[0mcantidad\u001b[0m\u001b[0;34m=\u001b[0m \u001b[0mint\u001b[0m\u001b[0;34m(\u001b[0m\u001b[0minput\u001b[0m\u001b[0;34m(\u001b[0m\u001b[0;34m\"cuantas unidades\"\u001b[0m\u001b[0;34m)\u001b[0m\u001b[0;34m)\u001b[0m\u001b[0;34m\u001b[0m\u001b[0;34m\u001b[0m\u001b[0m\n\u001b[0m\u001b[1;32m     79\u001b[0m \u001b[0;34m\u001b[0m\u001b[0m\n\u001b[1;32m     80\u001b[0m             \u001b[0;32mfor\u001b[0m \u001b[0mproducto\u001b[0m \u001b[0;32min\u001b[0m \u001b[0mself\u001b[0m\u001b[0;34m.\u001b[0m\u001b[0minventario\u001b[0m\u001b[0;34m:\u001b[0m\u001b[0;34m\u001b[0m\u001b[0;34m\u001b[0m\u001b[0m\n",
      "\u001b[0;31mValueError\u001b[0m: invalid literal for int() with base 10: ''"
     ]
    }
   ],
   "source": [
    "mi_tienda.realizar_compra()"
   ]
  },
  {
   "cell_type": "code",
   "execution_count": null,
   "metadata": {},
   "outputs": [
    {
     "name": "stdout",
     "output_type": "stream",
     "text": [
      "El dinero aportado es insuficiente para el monto de la compra\n"
     ]
    }
   ],
   "source": [
    "#Apartado 8 prueba del metodo procesar pago\n",
    "\n",
    "mi_tienda.procesar_pago()"
   ]
  },
  {
   "cell_type": "code",
   "execution_count": 55,
   "metadata": {},
   "outputs": [
    {
     "data": {
      "text/plain": [
       "'El cliente Rebeca con email rebeca.enma@gmail.com ya esta registrado en nuestra base de datos'"
      ]
     },
     "execution_count": 55,
     "metadata": {},
     "output_type": "execute_result"
    }
   ],
   "source": [
    "# Apartado 9 \n",
    "mi_tienda.agregar_cliente(\"Pedro\",\"prueba@gmail.com\")\n",
    "mi_tienda.agregar_cliente(\"Rebeca\",\"rebeca.enma@gmail.com\")\n",
    "mi_tienda.agregar_cliente(\"Rebeca\",\"rebeca.enma@gmail.com\")\n"
   ]
  },
  {
   "cell_type": "code",
   "execution_count": 56,
   "metadata": {},
   "outputs": [
    {
     "name": "stdout",
     "output_type": "stream",
     "text": [
      "Cliente: Pedro con email prueba@gmail.com\n",
      "Cliente: Rebeca con email rebeca.enma@gmail.com\n"
     ]
    }
   ],
   "source": [
    "#apartado 10\n",
    "mi_tienda.ver_clientes()"
   ]
  },
  {
   "cell_type": "code",
   "execution_count": 57,
   "metadata": {},
   "outputs": [
    {
     "name": "stdout",
     "output_type": "stream",
     "text": [
      "Usuario no registado, no puede realizar la compra\n"
     ]
    }
   ],
   "source": [
    "mi_tienda.registrar_compra(\"Patricia\",{\"Camisa\": {\"precio\": 20, \"cantidad\": 3}})"
   ]
  },
  {
   "cell_type": "code",
   "execution_count": 59,
   "metadata": {},
   "outputs": [],
   "source": [
    "mi_tienda.registrar_compra(\"Rebeca\",{\"Camisa\": {\"precio\": 20, \"cantidad\": 3},\"Gafas\": {\"precio\": 60, \"cantidad\": 2}})\n",
    "\n"
   ]
  },
  {
   "cell_type": "code",
   "execution_count": 61,
   "metadata": {},
   "outputs": [
    {
     "name": "stdout",
     "output_type": "stream",
     "text": [
      "{'Pedro': {'email': 'prueba@gmail.com', 'compra': []}, 'Rebeca': {'email': 'rebeca.enma@gmail.com', 'compra': [{'Camisa': {'precio': 20, 'cantidad': 3}, 'Gafas': {'precio': 60, 'cantidad': 2}}, {'Camisa': {'precio': 20, 'cantidad': 3}, 'Gafas': {'precio': 60, 'cantidad': 2}}, {'Camisa': {'precio': 20, 'cantidad': 3}, 'Gafas': {'precio': 60, 'cantidad': 2}}, {'Camisa': {'precio': 20, 'cantidad': 3}, 'Gafas': {'precio': 60, 'cantidad': 2}}]}}\n",
      "360.0\n"
     ]
    }
   ],
   "source": [
    "print(mi_tienda.clientes)\n",
    "print(mi_tienda.ventas_totales)"
   ]
  }
 ],
 "metadata": {
  "kernelspec": {
   "display_name": "base",
   "language": "python",
   "name": "python3"
  },
  "language_info": {
   "codemirror_mode": {
    "name": "ipython",
    "version": 3
   },
   "file_extension": ".py",
   "mimetype": "text/x-python",
   "name": "python",
   "nbconvert_exporter": "python",
   "pygments_lexer": "ipython3",
   "version": "3.9.7"
  }
 },
 "nbformat": 4,
 "nbformat_minor": 2
}
